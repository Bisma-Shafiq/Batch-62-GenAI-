{
 "cells": [
  {
   "cell_type": "code",
   "execution_count": 36,
   "metadata": {},
   "outputs": [
    {
     "name": "stdout",
     "output_type": "stream",
     "text": [
      "['ali', 'ahmed', 'ayesha']\n"
     ]
    }
   ],
   "source": [
    "names =[\"ali\",\"ahmed\",\"ayesha\"]\n",
    "print(names)"
   ]
  },
  {
   "cell_type": "code",
   "execution_count": 37,
   "metadata": {},
   "outputs": [
    {
     "name": "stdout",
     "output_type": "stream",
     "text": [
      "Hello, ali!\n",
      "Hello, ahmed!\n",
      "Hello, ayesha!\n"
     ]
    }
   ],
   "source": [
    "names = [\"ali\", \"ahmed\", \"ayesha\"]\n",
    "\n",
    "for name in names:\n",
    "    print(f\"Hello, {name}!\")\n"
   ]
  },
  {
   "cell_type": "code",
   "execution_count": 38,
   "metadata": {},
   "outputs": [
    {
     "name": "stdout",
     "output_type": "stream",
     "text": [
      "i would like to owntesla car\n",
      "i would like to ownhonda car\n",
      "i would like to owntoyota car\n"
     ]
    }
   ],
   "source": [
    "transportation =[\"tesla car\",\"honda car\",\"toyota car\"]\n",
    "for items in transportation:\n",
    "    print(f\"i would like to own{items}\")"
   ]
  },
  {
   "cell_type": "code",
   "execution_count": 39,
   "metadata": {},
   "outputs": [
    {
     "name": "stdout",
     "output_type": "stream",
     "text": [
      "Ali! you are inviting to a dinner\n",
      "Ahmed! you are inviting to a dinner\n",
      "Ayesha! you are inviting to a dinner\n"
     ]
    }
   ],
   "source": [
    "persons = [\"Ali\", \"Ahmed\", \"Ayesha\"]\n",
    "for people in persons:\n",
    "    print(f\"{people}! you are inviting to a dinner\")"
   ]
  },
  {
   "cell_type": "code",
   "execution_count": 40,
   "metadata": {},
   "outputs": [
    {
     "name": "stdout",
     "output_type": "stream",
     "text": [
      "Ali, u are invited to dinner\n",
      "Ahmed, u are invited to dinner\n",
      "Ayesha, u are invited to dinner\n",
      "\n",
      " Unfortunately, ALI can't make it to dinner\n",
      "Noor, u are invited to dinner\n",
      "Ahmed, u are invited to dinner\n",
      "Ayesha, u are invited to dinner\n"
     ]
    }
   ],
   "source": [
    "persons = [\"Ali\", \"Ahmed\", \"Ayesha\"]\n",
    "for people in persons:\n",
    "    print(f\"{people}, u are invited to dinner\")\n",
    "print(\"\\n Unfortunately, ALI can't make it to dinner\")\n",
    "persons[0]= \"Noor\"\n",
    "for people in persons:\n",
    "    print(f\"{people}, u are invited to dinner\")"
   ]
  },
  {
   "cell_type": "code",
   "execution_count": 41,
   "metadata": {},
   "outputs": [
    {
     "name": "stdout",
     "output_type": "stream",
     "text": [
      "['Ali', 'Ahmed', 'Ayesha']\n",
      "['shafe', 'Ali', 'Ahmed', 'Ayesha']\n",
      "['shafe', 'Ali', 'shahzaib', 'Ahmed', 'Ayesha']\n",
      "['shafe', 'Ali', 'shahzaib', 'Ahmed', 'Ayesha', 'hamza']\n"
     ]
    }
   ],
   "source": [
    "persons = [\"Ali\", \"Ahmed\", \"Ayesha\"]\n",
    "print(persons)\n",
    "#begining\n",
    "persons.insert(0, \"shafe\")\n",
    "print(persons)\n",
    "\n",
    "#middle\n",
    "persons.insert(2, \"shahzaib\")\n",
    "print(persons)\n",
    "#last\n",
    "persons.append(\"hamza\")\n",
    "print(persons)"
   ]
  },
  {
   "cell_type": "code",
   "execution_count": 42,
   "metadata": {},
   "outputs": [
    {
     "name": "stdout",
     "output_type": "stream",
     "text": [
      "Ali, you are invited to dinner!\n",
      "Ahmed, you are invited to dinner!\n",
      "Ayesha, you are invited to dinner!\n",
      "\n",
      "Ahmed can't make it to the dinner.\n",
      "Ali, you are invited to dinner!\n",
      "Sara, you are invited to dinner!\n",
      "Ayesha, you are invited to dinner!\n",
      "\n",
      "I can invite only two people for dinner.\n",
      "Sorry, Ayesha, I can't invite you to dinner.\n",
      "\n",
      "Final invitations:\n",
      "Ali, you are still invited to dinner!\n",
      "Sara, you are still invited to dinner!\n",
      "\n",
      "Final guest list: []\n"
     ]
    }
   ],
   "source": [
    "persons = [\"Ali\", \"Ahmed\", \"Ayesha\"]\n",
    "for person in persons:\n",
    "    print(f\"{person}, you are invited to dinner!\")\n",
    "\n",
    "print(\"\\nAhmed can't make it to the dinner.\")\n",
    "persons[1] = \"Sara\"\n",
    "\n",
    "for person in persons:\n",
    "    print(f\"{person}, you are invited to dinner!\")\n",
    "print(\"\\nI can invite only two people for dinner.\")\n",
    "while len(persons) > 2:\n",
    "    removed_guest = persons.pop()\n",
    "    print(f\"Sorry, {removed_guest}, I can't invite you to dinner.\")\n",
    "print(\"\\nFinal invitations:\")\n",
    "for person in persons:\n",
    "    print(f\"{person}, you are still invited to dinner!\")\n",
    "del persons[0]\n",
    "del persons[0]\n",
    "print(\"\\nFinal guest list:\", persons)\n"
   ]
  },
  {
   "cell_type": "code",
   "execution_count": 43,
   "metadata": {},
   "outputs": [
    {
     "name": "stdout",
     "output_type": "stream",
     "text": [
      "Original list:\n",
      "['Japan', 'Switzerland', 'Canada', 'New Zealand', 'Iceland']\n",
      "\n",
      "List in alphabetical order using sorted():\n",
      "['Canada', 'Iceland', 'Japan', 'New Zealand', 'Switzerland']\n",
      "\n",
      "List after sorted() (should be unchanged):\n",
      "['Japan', 'Switzerland', 'Canada', 'New Zealand', 'Iceland']\n",
      "\n",
      "List in reverse-alphabetical order using sorted():\n",
      "['Switzerland', 'New Zealand', 'Japan', 'Iceland', 'Canada']\n",
      "\n",
      "List after reverse sorted() (should be unchanged):\n",
      "['Japan', 'Switzerland', 'Canada', 'New Zealand', 'Iceland']\n",
      "\n",
      "List after using reverse():\n",
      "['Iceland', 'New Zealand', 'Canada', 'Switzerland', 'Japan']\n",
      "\n",
      "List after using reverse() again (should be back to original):\n",
      "['Japan', 'Switzerland', 'Canada', 'New Zealand', 'Iceland']\n",
      "\n",
      "List after using sort() (alphabetical order):\n",
      "['Canada', 'Iceland', 'Japan', 'New Zealand', 'Switzerland']\n",
      "\n",
      "List after using sort() in reverse (reverse-alphabetical order):\n",
      "['Switzerland', 'New Zealand', 'Japan', 'Iceland', 'Canada']\n"
     ]
    }
   ],
   "source": [
    "# List of places to visit, not in alphabetical order\n",
    "places = [\"Japan\", \"Switzerland\", \"Canada\", \"New Zealand\", \"Iceland\"]\n",
    "\n",
    "# 1. \n",
    "print(\"Original list:\")\n",
    "print(places)\n",
    "\n",
    "# 2. \n",
    "print(\"\\nList in alphabetical order using sorted():\")\n",
    "print(sorted(places))\n",
    "\n",
    "# 3.\n",
    "print(\"\\nList after sorted() (should be unchanged):\")\n",
    "print(places)\n",
    "\n",
    "# 4. \n",
    "print(\"\\nList in reverse-alphabetical order using sorted():\")\n",
    "print(sorted(places, reverse=True))\n",
    "\n",
    "# 5. \n",
    "print(\"\\nList after reverse sorted() (should be unchanged):\")\n",
    "print(places)\n",
    "\n",
    "# 6. \n",
    "places.reverse()\n",
    "print(\"\\nList after using reverse():\")\n",
    "print(places)\n",
    "\n",
    "# 7. \n",
    "places.reverse()\n",
    "print(\"\\nList after using reverse() again (should be back to original):\")\n",
    "print(places)\n",
    "\n",
    "# 8. \n",
    "places.sort()\n",
    "print(\"\\nList after using sort() (alphabetical order):\")\n",
    "print(places)\n",
    "\n",
    "# 9. \n",
    "places.sort(reverse=True)\n",
    "print(\"\\nList after using sort() in reverse (reverse-alphabetical order):\")\n",
    "print(places)\n"
   ]
  },
  {
   "cell_type": "code",
   "execution_count": 44,
   "metadata": {},
   "outputs": [
    {
     "name": "stdout",
     "output_type": "stream",
     "text": [
      "['Nile', 'Amazon', 'Yangtze', 'Mississippi', 'Danube', 'Ganges']\n",
      "['Nile', 'Amazon', 'Volga', 'Yangtze', 'Mississippi', 'Danube', 'Ganges']\n",
      "['Nile', 'Amazon', 'Volga', 'Yangtze', 'Danube', 'Ganges']\n",
      "Ganges\n",
      "['Nile', 'Amazon', 'Volga', 'Yangtze', 'Danube']\n",
      "Amazon\n",
      "['Nile', 'Volga', 'Yangtze', 'Danube']\n",
      "['Danube', 'Yangtze', 'Volga', 'Nile']\n",
      "['Nile', 'Volga', 'Yangtze', 'Danube']\n",
      "['Danube', 'Nile', 'Volga', 'Yangtze']\n",
      "['Yangtze', 'Volga', 'Nile', 'Danube']\n",
      "4\n",
      "Yangtze\n",
      "Volga\n",
      "Nile\n",
      "Danube\n",
      "['YANGTZE', 'VOLGA', 'NILE', 'DANUBE']\n"
     ]
    }
   ],
   "source": [
    "rivers = [\"Nile\", \"Amazon\", \"Yangtze\", \"Mississippi\", \"Danube\"]\n",
    "\n",
    "rivers.append(\"Ganges\")\n",
    "print(rivers)\n",
    "\n",
    "rivers.insert(2, \"Volga\")\n",
    "print(rivers)\n",
    "\n",
    "rivers.remove(\"Mississippi\")\n",
    "print(rivers)\n",
    "\n",
    "last_river = rivers.pop()\n",
    "print(last_river)\n",
    "print(rivers)\n",
    "\n",
    "second_river = rivers.pop(1)\n",
    "print(second_river)\n",
    "print(rivers)\n",
    "\n",
    "rivers.reverse()\n",
    "print(rivers)\n",
    "\n",
    "rivers.reverse()\n",
    "print(rivers)\n",
    "\n",
    "rivers.sort()\n",
    "print(rivers)\n",
    "\n",
    "rivers.sort(reverse=True)\n",
    "print(rivers)\n",
    "\n",
    "print(len(rivers))\n",
    "\n",
    "for river in rivers:\n",
    "    print(river)\n",
    "\n",
    "uppercase_rivers = [river.upper() for river in rivers]\n",
    "print(uppercase_rivers)\n"
   ]
  },
  {
   "cell_type": "code",
   "execution_count": 45,
   "metadata": {},
   "outputs": [
    {
     "ename": "IndexError",
     "evalue": "list index out of range",
     "output_type": "error",
     "traceback": [
      "\u001b[1;31m---------------------------------------------------------------------------\u001b[0m",
      "\u001b[1;31mIndexError\u001b[0m                                Traceback (most recent call last)",
      "Cell \u001b[1;32mIn[45], line 2\u001b[0m\n\u001b[0;32m      1\u001b[0m error \u001b[38;5;241m=\u001b[39m [\u001b[38;5;124m'\u001b[39m\u001b[38;5;124mNile\u001b[39m\u001b[38;5;124m'\u001b[39m, \u001b[38;5;124m'\u001b[39m\u001b[38;5;124mAmazon\u001b[39m\u001b[38;5;124m'\u001b[39m, \u001b[38;5;124m'\u001b[39m\u001b[38;5;124mYangtze\u001b[39m\u001b[38;5;124m'\u001b[39m, \u001b[38;5;124m'\u001b[39m\u001b[38;5;124mMississippi\u001b[39m\u001b[38;5;124m'\u001b[39m, \u001b[38;5;124m'\u001b[39m\u001b[38;5;124mDanube\u001b[39m\u001b[38;5;124m'\u001b[39m, \u001b[38;5;124m'\u001b[39m\u001b[38;5;124mGanges\u001b[39m\u001b[38;5;124m'\u001b[39m]\n\u001b[1;32m----> 2\u001b[0m \u001b[38;5;28mprint\u001b[39m(\u001b[43merror\u001b[49m\u001b[43m[\u001b[49m\u001b[38;5;241;43m8\u001b[39;49m\u001b[43m]\u001b[49m)\n",
      "\u001b[1;31mIndexError\u001b[0m: list index out of range"
     ]
    }
   ],
   "source": [
    "error = ['Nile', 'Amazon', 'Yangtze', 'Mississippi', 'Danube', 'Ganges']\n",
    "print(error[8])"
   ]
  },
  {
   "cell_type": "code",
   "execution_count": null,
   "metadata": {},
   "outputs": [],
   "source": []
  }
 ],
 "metadata": {
  "kernelspec": {
   "display_name": "Python 3",
   "language": "python",
   "name": "python3"
  },
  "language_info": {
   "codemirror_mode": {
    "name": "ipython",
    "version": 3
   },
   "file_extension": ".py",
   "mimetype": "text/x-python",
   "name": "python",
   "nbconvert_exporter": "python",
   "pygments_lexer": "ipython3",
   "version": "3.10.7"
  }
 },
 "nbformat": 4,
 "nbformat_minor": 2
}
