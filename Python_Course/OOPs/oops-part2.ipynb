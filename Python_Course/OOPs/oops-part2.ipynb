{
 "cells": [
  {
   "cell_type": "markdown",
   "metadata": {},
   "source": [
    "# Abstraction\n",
    "##### hiding the implementation details of a class"
   ]
  },
  {
   "cell_type": "code",
   "execution_count": 2,
   "metadata": {},
   "outputs": [
    {
     "name": "stdout",
     "output_type": "stream",
     "text": [
      "car started\n"
     ]
    }
   ],
   "source": [
    "class car:\n",
    "    def __init__(self):\n",
    "        self.acc = False\n",
    "        self.clutch = False\n",
    "        self.br = False\n",
    "    def start(self):\n",
    "        self.acc = True\n",
    "        self.clutch = True\n",
    "        print(\"car started\")\n",
    "c1 = car()\n",
    "c1.start()"
   ]
  },
  {
   "cell_type": "markdown",
   "metadata": {},
   "source": [
    "# Encapsulation\n",
    "#### wrapping data and function into a single unit(object)"
   ]
  },
  {
   "cell_type": "code",
   "execution_count": 3,
   "metadata": {},
   "outputs": [
    {
     "name": "stdout",
     "output_type": "stream",
     "text": [
      "welcome to university noor\n",
      "67\n"
     ]
    }
   ],
   "source": [
    "class students:\n",
    "    uni_name =\"gcu\"\n",
    "\n",
    "    def __init__(self, name, marks):\n",
    "        self.name = name\n",
    "        self.marks = marks\n",
    "\n",
    "    def welcome(self):\n",
    "        print(\"welcome to university\", self.name)\n",
    "    def get_marks(self):\n",
    "         return self.marks\n",
    "s1= students(\"noor\",67)\n",
    "s1.welcome()\n",
    "print(s1.get_marks())"
   ]
  },
  {
   "cell_type": "markdown",
   "metadata": {},
   "source": [
    "# Inheritance"
   ]
  },
  {
   "cell_type": "code",
   "execution_count": 4,
   "metadata": {},
   "outputs": [
    {
     "name": "stdout",
     "output_type": "stream",
     "text": [
      "this is drive class\n"
     ]
    }
   ],
   "source": [
    "class animal:\n",
    "    def speak(self):\n",
    "        print(\"this is base drive\")\n",
    "class cat:\n",
    "    def speak(animal):\n",
    "        print(\"this is drive class\")\n",
    "                                                                    ### super , @@classmethods, static method\n",
    "d = cat()\n",
    "d.speak()\n"
   ]
  },
  {
   "cell_type": "code",
   "execution_count": 5,
   "metadata": {},
   "outputs": [
    {
     "name": "stdout",
     "output_type": "stream",
     "text": [
      "Civic\n",
      "City\n",
      "black\n",
      "car started\n",
      "None\n",
      "car started\n",
      "None\n",
      "car stopped\n",
      "None\n"
     ]
    }
   ],
   "source": [
    "class car():\n",
    "    colour = \"black\"\n",
    "    @staticmethod\n",
    "    def start():\n",
    "        print(\"car started\")\n",
    "    @staticmethod\n",
    "    def stop():\n",
    "        print(\"car stopped\")\n",
    "class Honda(car):\n",
    "    def __init__(self, name):\n",
    "        self.name = name\n",
    "c1 = Honda(\"Civic\")\n",
    "c2 = Honda(\"City\")\n",
    "print(c1.name)\n",
    "print(c2.name)\n",
    "print(c1.colour)\n",
    "print(c1.start())\n",
    "print(c2.start())\n",
    "print(c2.stop())"
   ]
  },
  {
   "cell_type": "markdown",
   "metadata": {},
   "source": [
    "# Types of Inheritance\n",
    "###### single\n",
    "###### Multi-level\n",
    "###### Multiple "
   ]
  },
  {
   "cell_type": "markdown",
   "metadata": {},
   "source": [
    "### Single Inheritance"
   ]
  },
  {
   "cell_type": "code",
   "execution_count": 6,
   "metadata": {},
   "outputs": [
    {
     "name": "stdout",
     "output_type": "stream",
     "text": [
      "this is drive class\n"
     ]
    }
   ],
   "source": [
    "class animal:\n",
    "    def speak(self):\n",
    "        print(\"this is base drive\")\n",
    "class cat:\n",
    "    def speak(animal):\n",
    "        print(\"this is drive class\")\n",
    "                                                                    ### super , @@classmethods, static method\n",
    "d = cat()\n",
    "d.speak()\n"
   ]
  },
  {
   "cell_type": "markdown",
   "metadata": {},
   "source": [
    "### Multi-level Inheritance"
   ]
  },
  {
   "cell_type": "code",
   "execution_count": 9,
   "metadata": {},
   "outputs": [
    {
     "name": "stdout",
     "output_type": "stream",
     "text": [
      "Petrol\n"
     ]
    }
   ],
   "source": [
    "class car():\n",
    "    @staticmethod\n",
    "    def start():\n",
    "        print(\"Started\")\n",
    "    @staticmethod\n",
    "    def stop():\n",
    "        print(\"Stop\")\n",
    "class Brand(car):\n",
    "    def __init__(self, brand):\n",
    "        self.brand = brand\n",
    "class Civic(Brand):\n",
    "    def __init__(self, type):\n",
    "        self.type = type\n",
    "c1 = Civic(\"Petrol\")\n",
    "print(c1.type)\n",
    "\n",
    "        "
   ]
  },
  {
   "cell_type": "markdown",
   "metadata": {},
   "source": [
    "# Multiple Inheretance"
   ]
  },
  {
   "cell_type": "code",
   "execution_count": 12,
   "metadata": {},
   "outputs": [
    {
     "name": "stdout",
     "output_type": "stream",
     "text": [
      "cat class\n",
      "Dog class\n",
      "Cat and dog class\n"
     ]
    }
   ],
   "source": [
    "class A():\n",
    "    cat = \"cat class\"\n",
    "class B():\n",
    "    dog = \"Dog class\"\n",
    "class Animal (A ,B):\n",
    "    animal =\"Cat and dog class\"\n",
    "c1 = Animal()\n",
    "print(c1.cat)\n",
    "print(c1.dog)\n",
    "print(c1.animal)"
   ]
  },
  {
   "cell_type": "markdown",
   "metadata": {},
   "source": [
    "# Super Method"
   ]
  },
  {
   "cell_type": "code",
   "execution_count": 23,
   "metadata": {},
   "outputs": [
    {
     "name": "stdout",
     "output_type": "stream",
     "text": [
      "electrical\n"
     ]
    }
   ],
   "source": [
    "class car():\n",
    "    def __init__(self, type):\n",
    "        self.type = type\n",
    "    @staticmethod\n",
    "    def start():\n",
    "        print(\"Started\")\n",
    "    @staticmethod\n",
    "    def stop():\n",
    "        print(\"Stop\")\n",
    "\n",
    "class Civic(car):\n",
    "    def __init__(self, name, type):\n",
    "        self.name = name\n",
    "        #self.type = type\n",
    "        super().__init__(type)    # super method\n",
    "c1 = Civic(\"Petrol\", \"electrical\")\n",
    "print(c1.type)"
   ]
  },
  {
   "cell_type": "code",
   "execution_count": null,
   "metadata": {},
   "outputs": [],
   "source": []
  }
 ],
 "metadata": {
  "kernelspec": {
   "display_name": "Python 3",
   "language": "python",
   "name": "python3"
  },
  "language_info": {
   "codemirror_mode": {
    "name": "ipython",
    "version": 3
   },
   "file_extension": ".py",
   "mimetype": "text/x-python",
   "name": "python",
   "nbconvert_exporter": "python",
   "pygments_lexer": "ipython3",
   "version": "3.12.6"
  }
 },
 "nbformat": 4,
 "nbformat_minor": 2
}
