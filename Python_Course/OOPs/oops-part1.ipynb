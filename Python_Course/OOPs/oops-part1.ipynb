{
 "cells": [
  {
   "cell_type": "markdown",
   "metadata": {},
   "source": [
    "# OOPS\n",
    "##### To map with real world scenarios, we started using objects in code. called OOPS"
   ]
  },
  {
   "cell_type": "code",
   "execution_count": 1,
   "metadata": {},
   "outputs": [
    {
     "name": "stdout",
     "output_type": "stream",
     "text": [
      "ayesha\n"
     ]
    }
   ],
   "source": [
    "class student:\n",
    "    name=\"ayesha\"   # property name of student\n",
    "s1 = student()\n",
    "print(s1.name)"
   ]
  },
  {
   "cell_type": "code",
   "execution_count": 2,
   "metadata": {},
   "outputs": [
    {
     "name": "stdout",
     "output_type": "stream",
     "text": [
      "peach\n",
      "apple\n"
     ]
    }
   ],
   "source": [
    "class fruits:\n",
    "    name= [\"peach\", \"apple\"]\n",
    "f1=fruits()\n",
    "print(f1.name[0])\n",
    "print(f1.name[1])\n"
   ]
  },
  {
   "cell_type": "markdown",
   "metadata": {},
   "source": [
    "## Constructor\n",
    "##### used for object initialization"
   ]
  },
  {
   "cell_type": "code",
   "execution_count": 1,
   "metadata": {},
   "outputs": [
    {
     "name": "stdout",
     "output_type": "stream",
     "text": [
      "I am adding new student in database\n"
     ]
    }
   ],
   "source": [
    "# default Constructor\n",
    "class Student:\n",
    "    #name = \"abcd\"\n",
    "    def __init__(self):  # constructor\n",
    "        print(\"I am adding new student in database\")\n",
    "\n",
    "s1 = Student()  # () to call constructor"
   ]
  },
  {
   "cell_type": "code",
   "execution_count": 4,
   "metadata": {},
   "outputs": [
    {
     "name": "stdout",
     "output_type": "stream",
     "text": [
      "new student adding\n",
      "amna\n",
      "new student adding\n",
      "bisma\n"
     ]
    }
   ],
   "source": [
    "#parametrized constructor\n",
    "class student:\n",
    "\n",
    "    def __init__(self, fullname):\n",
    "        self.name = fullname\n",
    "        print(\"new student adding\")\n",
    "s1= student(\"amna\")\n",
    "print(s1.name)\n",
    "s2=student(\"bisma\")\n",
    "print(s2.name)\n",
    "\n",
    "# constructor har new object pr call hota ha\n",
    "        "
   ]
  },
  {
   "cell_type": "code",
   "execution_count": 5,
   "metadata": {},
   "outputs": [
    {
     "name": "stdout",
     "output_type": "stream",
     "text": [
      "new student with marks\n",
      "noor 67\n",
      "new student with marks\n",
      "abcd 89\n"
     ]
    }
   ],
   "source": [
    "class Student:\n",
    "\n",
    "    def __init__(self, name, marks):\n",
    "        self.name = name\n",
    "        self.marks = marks\n",
    "        print(\"new student with marks\")\n",
    "\n",
    "\n",
    "s1 = Student(\"noor\", 67)\n",
    "print(s1.name, s1.marks)\n",
    "s2 = Student(\"abcd\", 89)\n",
    "print(s2.name, s2.marks)"
   ]
  },
  {
   "cell_type": "code",
   "execution_count": 4,
   "metadata": {},
   "outputs": [
    {
     "name": "stdout",
     "output_type": "stream",
     "text": [
      "new students\n",
      "john 56\n",
      "mac 78\n"
     ]
    }
   ],
   "source": [
    "class student:\n",
    "    print(\"new students\")\n",
    "    def __init__(self, name, marks):\n",
    "        self.name = name\n",
    "        self.marks = marks\n",
    "        #print(\"new students\")\n",
    "s1 = student(\"john\", 56)\n",
    "s2 = student(\"mac\", 78)\n",
    "print(s1.name , s1.marks)\n",
    "print(s2.name , s2.marks)"
   ]
  },
  {
   "cell_type": "markdown",
   "metadata": {},
   "source": [
    "# Class & Instance Attributes"
   ]
  },
  {
   "cell_type": "code",
   "execution_count": 6,
   "metadata": {},
   "outputs": [
    {
     "name": "stdout",
     "output_type": "stream",
     "text": [
      "adding new car\n",
      "model1\n"
     ]
    }
   ],
   "source": [
    "class car:\n",
    "    company_name = \"BMW\" \n",
    "    name = \"any name \" # class attribute\n",
    "    def __init__(self, name):\n",
    "        self.name = name  # object attribute\n",
    "        print(\"adding new car\")\n",
    "\n",
    "c1= car(\"model1\")\n",
    "print(c1.name)   # object attribute > class attribute"
   ]
  },
  {
   "cell_type": "markdown",
   "metadata": {},
   "source": [
    "## Methods\n",
    "##### Methods are functions that belong to objects"
   ]
  },
  {
   "cell_type": "code",
   "execution_count": 5,
   "metadata": {},
   "outputs": [
    {
     "name": "stdout",
     "output_type": "stream",
     "text": [
      "GCUL\n",
      "welcome to university noor\n",
      "None\n",
      "67\n"
     ]
    }
   ],
   "source": [
    "class students:\n",
    "    uni_name =print(\"GCUL\")\n",
    "    def __init__(self, name, marks):\n",
    "        self.name = name\n",
    "        self.marks = marks\n",
    "\n",
    "    def welcome(self):\n",
    "        print(\"welcome to university\", self.name)\n",
    "    def get_marks(self):\n",
    "         return self.marks\n",
    "s1= students(\"noor\",67)\n",
    "print(s1.welcome())\n",
    "print(s1.get_marks())"
   ]
  },
  {
   "cell_type": "markdown",
   "metadata": {},
   "source": [
    "# Static Method\n",
    "##### Method that don't use self parameter\n"
   ]
  },
  {
   "cell_type": "code",
   "execution_count": 7,
   "metadata": {},
   "outputs": [
    {
     "name": "stdout",
     "output_type": "stream",
     "text": [
      "hello\n"
     ]
    }
   ],
   "source": [
    "class student:\n",
    "    @staticmethod   # decorator\n",
    "    def hello():\n",
    "        print(\"hello\")\n",
    "student.hello()\n"
   ]
  },
  {
   "cell_type": "markdown",
   "metadata": {},
   "source": [
    "# Decorator\n",
    "##### a function that extend the behavior of another function w/o modify base function. we pass base  function as an argument to decorator"
   ]
  },
  {
   "cell_type": "code",
   "execution_count": 13,
   "metadata": {},
   "outputs": [
    {
     "name": "stdout",
     "output_type": "stream",
     "text": [
      "something is happeing\n",
      "New gift\n",
      "Message printing\n"
     ]
    }
   ],
   "source": [
    "#Gift Example\n",
    "def my_decorator(gift):\n",
    "    def wrapper():\n",
    "        print(\"something is happeing\")\n",
    "        gift()\n",
    "        print(\"Message printing\")\n",
    "\n",
    "    return wrapper\n",
    "@my_decorator\n",
    "def new_gift():\n",
    "    print(\"New gift\")\n",
    "new_gift()\n",
    "\n",
    "\n"
   ]
  },
  {
   "cell_type": "markdown",
   "metadata": {},
   "source": [
    "# Decorator with arguments"
   ]
  },
  {
   "cell_type": "code",
   "execution_count": 3,
   "metadata": {},
   "outputs": [
    {
     "name": "stdout",
     "output_type": "stream",
     "text": [
      "decorator : hello-world, 78\n",
      "function\n"
     ]
    }
   ],
   "source": [
    "def variable_data(arg1, arg2):\n",
    "    def actual_data(func):\n",
    "        def wrapper(*args,**kwargs):\n",
    "            print(f\"decorator : {arg1}, {arg2}\")\n",
    "            return func(*args,**kwargs)\n",
    "        return wrapper\n",
    "    return actual_data\n",
    "@variable_data(\"hello-world\", 78)\n",
    "\n",
    "\n",
    "def my_function():\n",
    "    print(\"function\")\n",
    "my_function()"
   ]
  },
  {
   "cell_type": "code",
   "execution_count": 9,
   "metadata": {},
   "outputs": [
    {
     "name": "stdout",
     "output_type": "stream",
     "text": [
      "added sprinkles\n",
      "Here is ur ice-cream ....\n"
     ]
    }
   ],
   "source": [
    "# Ice-cream Example\n",
    "def add_sprinkle(fun):\n",
    "    def wrapper():\n",
    "        print(\"added sprinkles\")\n",
    "        fun()\n",
    "    return wrapper\n",
    "@add_sprinkle\n",
    "def get_ice_cream():\n",
    "    print(\"Here is ur ice-cream ....\")\n",
    "get_ice_cream()"
   ]
  },
  {
   "cell_type": "markdown",
   "metadata": {},
   "source": [
    "# Del Keyword"
   ]
  },
  {
   "cell_type": "code",
   "execution_count": 13,
   "metadata": {},
   "outputs": [
    {
     "ename": "AttributeError",
     "evalue": "'student' object has no attribute 'name'",
     "output_type": "error",
     "traceback": [
      "\u001b[1;31m---------------------------------------------------------------------------\u001b[0m",
      "\u001b[1;31mAttributeError\u001b[0m                            Traceback (most recent call last)",
      "Cell \u001b[1;32mIn[13], line 6\u001b[0m\n\u001b[0;32m      4\u001b[0m s1 \u001b[38;5;241m=\u001b[39m student(\u001b[38;5;124m\"\u001b[39m\u001b[38;5;124mNoor\u001b[39m\u001b[38;5;124m\"\u001b[39m)\n\u001b[0;32m      5\u001b[0m \u001b[38;5;28;01mdel\u001b[39;00m s1\u001b[38;5;241m.\u001b[39mname  \u001b[38;5;66;03m# delete s1\u001b[39;00m\n\u001b[1;32m----> 6\u001b[0m \u001b[38;5;28mprint\u001b[39m(\u001b[43ms1\u001b[49m\u001b[38;5;241;43m.\u001b[39;49m\u001b[43mname\u001b[49m)\n",
      "\u001b[1;31mAttributeError\u001b[0m: 'student' object has no attribute 'name'"
     ]
    }
   ],
   "source": [
    "class student ():\n",
    "    def __init__(self, name):\n",
    "        self.name = name\n",
    "s1 = student(\"Noor\")\n",
    "del s1.name  # delete s1\n",
    "print(s1.name)\n",
    "        "
   ]
  },
  {
   "cell_type": "markdown",
   "metadata": {},
   "source": [
    "# Private Attribute& Methods"
   ]
  },
  {
   "cell_type": "code",
   "execution_count": 19,
   "metadata": {},
   "outputs": [
    {
     "name": "stdout",
     "output_type": "stream",
     "text": [
      "123456789\n"
     ]
    },
    {
     "ename": "AttributeError",
     "evalue": "'Account' object has no attribute '__acc_pass'",
     "output_type": "error",
     "traceback": [
      "\u001b[1;31m---------------------------------------------------------------------------\u001b[0m",
      "\u001b[1;31mAttributeError\u001b[0m                            Traceback (most recent call last)",
      "Cell \u001b[1;32mIn[19], line 8\u001b[0m\n\u001b[0;32m      5\u001b[0m ac1 \u001b[38;5;241m=\u001b[39m Account(\u001b[38;5;241m123456789\u001b[39m, \u001b[38;5;124m\"\u001b[39m\u001b[38;5;124mawsd\u001b[39m\u001b[38;5;124m\"\u001b[39m)\n\u001b[0;32m      7\u001b[0m \u001b[38;5;28mprint\u001b[39m(ac1\u001b[38;5;241m.\u001b[39macc_num)\n\u001b[1;32m----> 8\u001b[0m \u001b[38;5;28mprint\u001b[39m(\u001b[43mac1\u001b[49m\u001b[38;5;241;43m.\u001b[39;49m\u001b[43m__acc_pass\u001b[49m)\n",
      "\u001b[1;31mAttributeError\u001b[0m: 'Account' object has no attribute '__acc_pass'"
     ]
    }
   ],
   "source": [
    "class Account: \n",
    "    def __init__(self, acc_num, acc_pass):\n",
    "        self.acc_num = acc_num\n",
    "        self.__acc_pass = acc_pass   ## __ private key\n",
    "ac1 = Account(123456789, \"awsd\")\n",
    "\n",
    "print(ac1.acc_num)\n",
    "print(ac1.__acc_pass)"
   ]
  },
  {
   "cell_type": "code",
   "execution_count": 21,
   "metadata": {},
   "outputs": [
    {
     "ename": "AttributeError",
     "evalue": "'person' object has no attribute '__hello'",
     "output_type": "error",
     "traceback": [
      "\u001b[1;31m---------------------------------------------------------------------------\u001b[0m",
      "\u001b[1;31mAttributeError\u001b[0m                            Traceback (most recent call last)",
      "Cell \u001b[1;32mIn[21], line 6\u001b[0m\n\u001b[0;32m      4\u001b[0m         \u001b[38;5;28mprint\u001b[39m(\u001b[38;5;124m\"\u001b[39m\u001b[38;5;124madft\u001b[39m\u001b[38;5;124m\"\u001b[39m)\n\u001b[0;32m      5\u001b[0m p1 \u001b[38;5;241m=\u001b[39m person()\n\u001b[1;32m----> 6\u001b[0m \u001b[38;5;28mprint\u001b[39m(\u001b[43mp1\u001b[49m\u001b[38;5;241;43m.\u001b[39;49m\u001b[43m__hello\u001b[49m())\n",
      "\u001b[1;31mAttributeError\u001b[0m: 'person' object has no attribute '__hello'"
     ]
    }
   ],
   "source": [
    "class person():\n",
    "    #method \n",
    "    def __hello():\n",
    "        print(\"adft\")\n",
    "p1 = person()\n",
    "print(p1.__hello())"
   ]
  },
  {
   "cell_type": "code",
   "execution_count": 24,
   "metadata": {},
   "outputs": [
    {
     "name": "stdout",
     "output_type": "stream",
     "text": [
      "Hello\n",
      "None\n"
     ]
    }
   ],
   "source": [
    "class person():\n",
    "    def __hello(self):\n",
    "        print(\"Hello\")\n",
    "    def welcome(self):\n",
    "        self.__hello()\n",
    "\n",
    "p1 = person()\n",
    "print(p1.welcome())\n",
    "    "
   ]
  },
  {
   "cell_type": "code",
   "execution_count": null,
   "metadata": {},
   "outputs": [],
   "source": []
  }
 ],
 "metadata": {
  "kernelspec": {
   "display_name": "Python 3",
   "language": "python",
   "name": "python3"
  },
  "language_info": {
   "codemirror_mode": {
    "name": "ipython",
    "version": 3
   },
   "file_extension": ".py",
   "mimetype": "text/x-python",
   "name": "python",
   "nbconvert_exporter": "python",
   "pygments_lexer": "ipython3",
   "version": "3.12.6"
  }
 },
 "nbformat": 4,
 "nbformat_minor": 2
}
