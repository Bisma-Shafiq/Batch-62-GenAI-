{
 "cells": [
  {
   "cell_type": "markdown",
   "metadata": {},
   "source": [
    "# OOPS\n",
    "##### To map with real world scenarios, we started using objects in code. called OOPS"
   ]
  },
  {
   "cell_type": "code",
   "execution_count": 1,
   "metadata": {},
   "outputs": [
    {
     "name": "stdout",
     "output_type": "stream",
     "text": [
      "ayesha\n"
     ]
    }
   ],
   "source": [
    "class student:\n",
    "    name=\"ayesha\"\n",
    "s1 = student()\n",
    "print(s1.name)"
   ]
  },
  {
   "cell_type": "code",
   "execution_count": 2,
   "metadata": {},
   "outputs": [
    {
     "name": "stdout",
     "output_type": "stream",
     "text": [
      "peach\n",
      "apple\n"
     ]
    }
   ],
   "source": [
    "class fruits:\n",
    "    name= [\"peach\", \"apple\"]\n",
    "f1=fruits()\n",
    "print(f1.name[0])\n",
    "print(f1.name[1])\n"
   ]
  },
  {
   "cell_type": "markdown",
   "metadata": {},
   "source": [
    "## Constructor\n",
    "##### used for object initialization"
   ]
  },
  {
   "cell_type": "code",
   "execution_count": 3,
   "metadata": {},
   "outputs": [
    {
     "name": "stdout",
     "output_type": "stream",
     "text": [
      "I am adding new student in database\n"
     ]
    }
   ],
   "source": [
    "# default Constructor\n",
    "class Student:\n",
    "    name = \"abcd\"\n",
    "    def __init__(self):  # constructor\n",
    "        print(\"I am adding new student in database\")\n",
    "\n",
    "s1 = Student()  # () to call constructor"
   ]
  },
  {
   "cell_type": "code",
   "execution_count": 4,
   "metadata": {},
   "outputs": [
    {
     "name": "stdout",
     "output_type": "stream",
     "text": [
      "new student adding\n",
      "amna\n",
      "new student adding\n",
      "bisma\n"
     ]
    }
   ],
   "source": [
    "#parametrized constructor\n",
    "class student:\n",
    "\n",
    "    def __init__(self, fullname):\n",
    "        self.name = fullname\n",
    "        print(\"new student adding\")\n",
    "s1= student(\"amna\")\n",
    "print(s1.name)\n",
    "s2=student(\"bisma\")\n",
    "print(s2.name)\n",
    "\n",
    "# constructor har new object pr call hota ha\n",
    "        "
   ]
  },
  {
   "cell_type": "code",
   "execution_count": 5,
   "metadata": {},
   "outputs": [
    {
     "name": "stdout",
     "output_type": "stream",
     "text": [
      "new student with marks\n",
      "noor 67\n",
      "new student with marks\n",
      "abcd 89\n"
     ]
    }
   ],
   "source": [
    "class Student:\n",
    "\n",
    "    def __init__(self, name, marks):\n",
    "        self.name = name\n",
    "        self.marks = marks\n",
    "        print(\"new student with marks\")\n",
    "\n",
    "\n",
    "s1 = Student(\"noor\", 67)\n",
    "print(s1.name, s1.marks)\n",
    "s2 = Student(\"abcd\", 89)\n",
    "print(s2.name, s2.marks)"
   ]
  },
  {
   "cell_type": "markdown",
   "metadata": {},
   "source": [
    "# Class & Instance Attributes"
   ]
  },
  {
   "cell_type": "code",
   "execution_count": 6,
   "metadata": {},
   "outputs": [
    {
     "name": "stdout",
     "output_type": "stream",
     "text": [
      "adding new car\n",
      "model1\n"
     ]
    }
   ],
   "source": [
    "class car:\n",
    "    company_name = \"BMW\" \n",
    "    name = \"any name \" # class attribute\n",
    "    def __init__(self, name):\n",
    "        self.name = name  # object attribute\n",
    "        print(\"adding new car\")\n",
    "\n",
    "c1= car(\"model1\")\n",
    "print(c1.name)   # object attribute > class attribute"
   ]
  },
  {
   "cell_type": "markdown",
   "metadata": {},
   "source": [
    "## Methods\n",
    "##### Methods are functions that belong to objects"
   ]
  },
  {
   "cell_type": "code",
   "execution_count": 7,
   "metadata": {},
   "outputs": [
    {
     "name": "stdout",
     "output_type": "stream",
     "text": [
      "welcome to university noor\n",
      "67\n"
     ]
    }
   ],
   "source": [
    "class students:\n",
    "    uni_name =\"gcu\"\n",
    "\n",
    "    def __init__(self, name, marks):\n",
    "        self.name = name\n",
    "        self.marks = marks\n",
    "\n",
    "    def welcome(self):\n",
    "        print(\"welcome to university\", self.name)\n",
    "    def get_marks(self):\n",
    "         return self.marks\n",
    "s1= students(\"noor\",67)\n",
    "s1.welcome()\n",
    "print(s1.get_marks())"
   ]
  },
  {
   "cell_type": "markdown",
   "metadata": {},
   "source": [
    "# Static Method\n",
    "##### Method that don't use self parameter\n"
   ]
  },
  {
   "cell_type": "code",
   "execution_count": 10,
   "metadata": {},
   "outputs": [],
   "source": [
    "class student:\n",
    "    @staticmethod   # decorator\n",
    "    def hello():\n",
    "        print(\"hello\")\n"
   ]
  }
 ],
 "metadata": {
  "kernelspec": {
   "display_name": "Python 3",
   "language": "python",
   "name": "python3"
  },
  "language_info": {
   "codemirror_mode": {
    "name": "ipython",
    "version": 3
   },
   "file_extension": ".py",
   "mimetype": "text/x-python",
   "name": "python",
   "nbconvert_exporter": "python",
   "pygments_lexer": "ipython3",
   "version": "3.12.6"
  }
 },
 "nbformat": 4,
 "nbformat_minor": 2
}
