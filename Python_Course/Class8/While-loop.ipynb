{
 "cells": [
  {
   "cell_type": "markdown",
   "metadata": {},
   "source": [
    "## While Loop"
   ]
  },
  {
   "cell_type": "code",
   "execution_count": 3,
   "metadata": {},
   "outputs": [
    {
     "name": "stdout",
     "output_type": "stream",
     "text": [
      "1\n",
      "3\n",
      "5\n",
      "7\n",
      "9\n"
     ]
    }
   ],
   "source": [
    "n: int = 1\n",
    "while n<= 10:\n",
    "    print(n)\n",
    "    n= n+2"
   ]
  },
  {
   "cell_type": "code",
   "execution_count": 4,
   "metadata": {},
   "outputs": [
    {
     "name": "stdout",
     "output_type": "stream",
     "text": [
      "2X 2 = 4\n",
      "2X 3 = 6\n",
      "2X 4 = 8\n",
      "2X 5 = 10\n",
      "2X 6 = 12\n",
      "2X 7 = 14\n",
      "2X 8 = 16\n",
      "2X 9 = 18\n",
      "2X 10 = 20\n"
     ]
    }
   ],
   "source": [
    "# Table\n",
    "n = int(input(\"Number\"))\n",
    "while n<=10:\n",
    "    print(\"2 X\", n, \"=\", 2*n)\n",
    "    n= n+1"
   ]
  },
  {
   "cell_type": "code",
   "execution_count": null,
   "metadata": {},
   "outputs": [],
   "source": []
  }
 ],
 "metadata": {
  "kernelspec": {
   "display_name": "Python 3",
   "language": "python",
   "name": "python3"
  },
  "language_info": {
   "codemirror_mode": {
    "name": "ipython",
    "version": 3
   },
   "file_extension": ".py",
   "mimetype": "text/x-python",
   "name": "python",
   "nbconvert_exporter": "python",
   "pygments_lexer": "ipython3",
   "version": "3.12.6"
  }
 },
 "nbformat": 4,
 "nbformat_minor": 2
}
