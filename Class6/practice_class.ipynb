{
 "cells": [
  {
   "cell_type": "code",
   "execution_count": 6,
   "metadata": {},
   "outputs": [
    {
     "name": "stdout",
     "output_type": "stream",
     "text": [
      "67\n",
      "98\n",
      "Total sum  with an appropriate message. 165\n"
     ]
    }
   ],
   "source": [
    "num1 = int(input(\"enter 1st number: \"))\n",
    "num2 = int(input(\"Enter 2nd number: \"))\n",
    "print(num1)\n",
    "print(num2)\n",
    "print(\"Total sum with an appropriate message.\" , num1 + num2)"
   ]
  },
  {
   "cell_type": "code",
   "execution_count": 8,
   "metadata": {},
   "outputs": [
    {
     "name": "stdout",
     "output_type": "stream",
     "text": [
      "My favorite animal is dog\n"
     ]
    }
   ],
   "source": [
    "#q2\n",
    "animal = input(\"what's your favorite anim\")\n",
    "print(f\"My favorite animal is {animal}\")"
   ]
  },
  {
   "cell_type": "code",
   "execution_count": 13,
   "metadata": {},
   "outputs": [
    {
     "name": "stdout",
     "output_type": "stream",
     "text": [
      "23.0\n",
      "temperature in Celcius: -5.0\n"
     ]
    }
   ],
   "source": [
    "#q3\n",
    "temp = float(input(\"Enter temperature in Fhr: \"))\n",
    "print(temp)\n",
    "Celsius_degree = (temp-32)*(5.0/9.0)\n",
    "print(f\"temperature in Celcius: {Celsius_degree}\")"
   ]
  },
  {
   "cell_type": "code",
   "execution_count": 15,
   "metadata": {},
   "outputs": [
    {
     "name": "stdout",
     "output_type": "stream",
     "text": [
      "2\n",
      "4\n",
      "7\n",
      "the perimeter of tria: 13\n"
     ]
    }
   ],
   "source": [
    "#q4\n",
    "side1 = int(input(\"what is length of  1st side: \"))\n",
    "side2 = int(input(\"what is length of  2nd side: \"))\n",
    "side3 = int(input(\"what is length of  3rd side: \"))\n",
    "print(side1)\n",
    "print(side2)\n",
    "print(side3)\n",
    "total_sides = side1+side2+side3\n",
    "\n",
    "print(f\"the perimeter of tria: {total_sides}\")"
   ]
  },
  {
   "cell_type": "code",
   "execution_count": 24,
   "metadata": {},
   "outputs": [
    {
     "name": "stdout",
     "output_type": "stream",
     "text": [
      "squared is :16.0\n"
     ]
    }
   ],
   "source": [
    "#q5\n",
    "num = float(input(\"Type a number to see its square: \"))\n",
    "square = num*num\n",
    "print(f\"squared is :{square}\")"
   ]
  },
  {
   "cell_type": "code",
   "execution_count": 26,
   "metadata": {},
   "outputs": [
    {
     "name": "stdout",
     "output_type": "stream",
     "text": [
      "[1, 2, 4, 5]\n"
     ]
    }
   ],
   "source": [
    "#q6\n",
    "list =[1,2,3,4,5]\n",
    "list.pop(2)\n",
    "print(list)"
   ]
  },
  {
   "cell_type": "code",
   "execution_count": 29,
   "metadata": {},
   "outputs": [
    {
     "name": "stdout",
     "output_type": "stream",
     "text": [
      "[4, 5, 6, 1, 2, 3]\n"
     ]
    }
   ],
   "source": [
    "#q7\n",
    "list1 =[1,2,3]\n",
    "list2 = [4,5,6]\n",
    "\n",
    "total = list2 + list1\n",
    "print(total)"
   ]
  },
  {
   "cell_type": "code",
   "execution_count": 30,
   "metadata": {},
   "outputs": [
    {
     "name": "stdout",
     "output_type": "stream",
     "text": [
      "40\n"
     ]
    }
   ],
   "source": [
    "#q8\n",
    "list = [10,20,30,40]\n",
    "print(list.pop())"
   ]
  },
  {
   "cell_type": "code",
   "execution_count": null,
   "metadata": {},
   "outputs": [],
   "source": []
  }
 ],
 "metadata": {
  "kernelspec": {
   "display_name": "Python 3",
   "language": "python",
   "name": "python3"
  },
  "language_info": {
   "codemirror_mode": {
    "name": "ipython",
    "version": 3
   },
   "file_extension": ".py",
   "mimetype": "text/x-python",
   "name": "python",
   "nbconvert_exporter": "python",
   "pygments_lexer": "ipython3",
   "version": "3.10.7"
  }
 },
 "nbformat": 4,
 "nbformat_minor": 2
}
